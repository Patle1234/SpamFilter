{
  "nbformat": 4,
  "nbformat_minor": 0,
  "metadata": {
    "colab": {
      "name": "Spam Filter Model",
      "provenance": [],
      "collapsed_sections": [],
      "authorship_tag": "ABX9TyNTQ3EfB9Tk3FSUj/lOx3g9",
      "include_colab_link": true
    },
    "kernelspec": {
      "name": "python3",
      "display_name": "Python 3"
    },
    "language_info": {
      "name": "python"
    }
  },
  "cells": [
    {
      "cell_type": "markdown",
      "metadata": {
        "id": "view-in-github",
        "colab_type": "text"
      },
      "source": [
        "<a href=\"https://colab.research.google.com/github/Patle1234/SpamFilter/blob/main/Spam_Filter_Model.ipynb\" target=\"_parent\"><img src=\"https://colab.research.google.com/assets/colab-badge.svg\" alt=\"Open In Colab\"/></a>"
      ]
    },
    {
      "cell_type": "markdown",
      "metadata": {
        "id": "xxamRC2koLAC"
      },
      "source": [
        "# Import\n",
        "Here we import all of our libraries"
      ]
    },
    {
      "cell_type": "code",
      "metadata": {
        "colab": {
          "base_uri": "https://localhost:8080/"
        },
        "id": "eYYdKPN-oT9K",
        "outputId": "6beceac6-6eaa-4472-db9c-b15553041cb8"
      },
      "source": [
        "import torch\n",
        "import torch.nn as nn\n",
        "import torch.nn.functional as F\n",
        "from torch.autograd import Variable\n",
        "import numpy as np\n",
        "import pandas as pd\n",
        "import matplotlib.pyplot as plt\n",
        "import re\n",
        "import os\n",
        "import nltk\n",
        "nltk.download('wordnet')\n",
        "nltk.download('punkt')\n",
        "from nltk.tokenize import word_tokenize\n",
        "from nltk import PorterStemmer\n",
        "from nltk import WordNetLemmatizer\n",
        "from nltk.corpus import stopwords\n",
        "from sklearn.feature_extraction.text import CountVectorizer\n",
        "from sklearn.model_selection import train_test_split"
      ],
      "execution_count": null,
      "outputs": [
        {
          "output_type": "stream",
          "name": "stdout",
          "text": [
            "[nltk_data] Downloading package wordnet to /root/nltk_data...\n",
            "[nltk_data]   Unzipping corpora/wordnet.zip.\n",
            "[nltk_data] Downloading package punkt to /root/nltk_data...\n",
            "[nltk_data]   Unzipping tokenizers/punkt.zip.\n"
          ]
        }
      ]
    },
    {
      "cell_type": "markdown",
      "metadata": {
        "id": "q_k95nfXnl6L"
      },
      "source": [
        "# Model\n",
        "We are using a Logistic Regression Model\n",
        "\n",
        "\n"
      ]
    },
    {
      "cell_type": "code",
      "metadata": {
        "id": "nV-TBVLan_PY"
      },
      "source": [
        "class LogisticRegression(nn.Module):\n",
        "    def __init__(self):\n",
        "        super(LogisticRegression, self).__init__()\n",
        "        \n",
        "        self.linear1 = nn.Linear(10000,100)\n",
        "        self.linear2 = nn.Linear(100,10)\n",
        "        self.linear3 = nn.Linear(10,2)\n",
        "\n",
        "    def forward(self, x):\n",
        "        x = F.relu(self.linear1(x))\n",
        "        x = F.relu(self.linear2(x))\n",
        "        x = self.linear3(x)\n",
        "        return x\n"
      ],
      "execution_count": null,
      "outputs": []
    },
    {
      "cell_type": "markdown",
      "metadata": {
        "id": "I0hp_faqoY8J"
      },
      "source": [
        "# Import Dataset\n",
        "We are using a CSV file as out dataset. There are two rows, one for the email, and one for the classification(emial or not)"
      ]
    },
    {
      "cell_type": "code",
      "metadata": {
        "id": "Lk_zgUmfoWzv",
        "colab": {
          "resources": {
            "http://localhost:8080/nbextensions/google.colab/files.js": {
              "data": "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",
              "ok": true,
              "headers": [
                [
                  "content-type",
                  "application/javascript"
                ]
              ],
              "status": 200,
              "status_text": ""
            }
          },
          "base_uri": "https://localhost:8080/",
          "height": 89
        },
        "outputId": "fb1fbd6c-6e91-473f-9d6b-2ac55f731310"
      },
      "source": [
        "from google.colab import files\n",
        "\n",
        "uploaded = files.upload()\n",
        "\n",
        "for fn in uploaded.keys():\n",
        "  print('User uploaded file \"{name}\" with length {length} bytes'.format(\n",
        "      name=fn, length=len(uploaded[fn])))\n",
        "  \n",
        "  \n",
        "data=pd.read_csv('/content/emails.csv')\n"
      ],
      "execution_count": null,
      "outputs": [
        {
          "output_type": "display_data",
          "data": {
            "text/html": [
              "\n",
              "     <input type=\"file\" id=\"files-aaccbc5c-2b94-493d-9035-da4f4335688e\" name=\"files[]\" multiple disabled\n",
              "        style=\"border:none\" />\n",
              "     <output id=\"result-aaccbc5c-2b94-493d-9035-da4f4335688e\">\n",
              "      Upload widget is only available when the cell has been executed in the\n",
              "      current browser session. Please rerun this cell to enable.\n",
              "      </output>\n",
              "      <script src=\"/nbextensions/google.colab/files.js\"></script> "
            ],
            "text/plain": [
              "<IPython.core.display.HTML object>"
            ]
          },
          "metadata": {}
        },
        {
          "output_type": "stream",
          "name": "stdout",
          "text": [
            "Saving emails.csv to emails.csv\n",
            "User uploaded file \"emails.csv\" with length 8954755 bytes\n"
          ]
        }
      ]
    },
    {
      "cell_type": "markdown",
      "metadata": {
        "id": "ZNjcdGWRpJVx"
      },
      "source": [
        "# Stop Words\n",
        "We remove the stop words\n"
      ]
    },
    {
      "cell_type": "code",
      "metadata": {
        "id": "TPF0GLxOpQzd",
        "colab": {
          "base_uri": "https://localhost:8080/"
        },
        "outputId": "2eee1d49-8c76-4a1a-a241-7cccfa45a8d9"
      },
      "source": [
        "remove_non_alphabets =lambda x: re.sub(r'[^a-zA-Z]',' ',x)\n",
        "data['text'] = data['text'].apply(remove_non_alphabets)\n",
        "print(data.head())"
      ],
      "execution_count": null,
      "outputs": [
        {
          "output_type": "stream",
          "name": "stdout",
          "text": [
            "                                                text  spam\n",
            "0  Subject  naturally irresistible your corporate...     1\n",
            "1  Subject  the stock trading gunslinger  fanny i...     1\n",
            "2  Subject  unbelievable new homes made easy  im ...     1\n",
            "3  Subject    color printing special  request add...     1\n",
            "4  Subject  do not have money   get software cds ...     1\n"
          ]
        }
      ]
    },
    {
      "cell_type": "markdown",
      "metadata": {
        "id": "7J6plPQlotYP"
      },
      "source": [
        "# Tokenization\n",
        "Here we are doing our tokenization"
      ]
    },
    {
      "cell_type": "code",
      "metadata": {
        "id": "kqL4d4FapAWJ",
        "colab": {
          "base_uri": "https://localhost:8080/"
        },
        "outputId": "4939c111-a97b-4ae7-dac2-01135c9d5a4b"
      },
      "source": [
        "tokenize=lambda x: word_tokenize(x)\n",
        "data['text'] = data['text'].apply(tokenize)\n",
        "print(data.head())"
      ],
      "execution_count": null,
      "outputs": [
        {
          "output_type": "stream",
          "name": "stdout",
          "text": [
            "                                                text  spam\n",
            "0  [Subject, naturally, irresistible, your, corpo...     1\n",
            "1  [Subject, the, stock, trading, gunslinger, fan...     1\n",
            "2  [Subject, unbelievable, new, homes, made, easy...     1\n",
            "3  [Subject, color, printing, special, request, a...     1\n",
            "4  [Subject, do, not, have, money, get, software,...     1\n"
          ]
        }
      ]
    },
    {
      "cell_type": "markdown",
      "metadata": {
        "id": "Y1Bao9LYpXmp"
      },
      "source": [
        "## Stemming\n",
        "Here is where we stem our email"
      ]
    },
    {
      "cell_type": "code",
      "metadata": {
        "id": "ynrTD9blpgX5",
        "colab": {
          "base_uri": "https://localhost:8080/"
        },
        "outputId": "cac7178b-2670-4233-d6cf-1e7f4fa8b29a"
      },
      "source": [
        "ps = PorterStemmer()\n",
        "stem = lambda w: [ ps.stem(x) for x in w ]\n",
        "data['text'] = data['text'].apply(stem)\n",
        "print(data.head())\n"
      ],
      "execution_count": null,
      "outputs": [
        {
          "output_type": "stream",
          "name": "stdout",
          "text": [
            "                                                text  spam\n",
            "0  [subject, natur, irresist, your, corpor, ident...     1\n",
            "1  [subject, the, stock, trade, gunsling, fanni, ...     1\n",
            "2  [subject, unbeliev, new, home, made, easi, im,...     1\n",
            "3  [subject, color, print, special, request, addi...     1\n",
            "4  [subject, do, not, have, money, get, softwar, ...     1\n"
          ]
        }
      ]
    },
    {
      "cell_type": "markdown",
      "metadata": {
        "id": "bVe-ZACLpr22"
      },
      "source": [
        "#Lemmatization\n",
        "Here we apply lemmatization\n"
      ]
    },
    {
      "cell_type": "code",
      "metadata": {
        "id": "XWUKcZGBplQP",
        "colab": {
          "base_uri": "https://localhost:8080/"
        },
        "outputId": "af29fe74-2d0e-4d6e-de9f-0a0c74ecda2e"
      },
      "source": [
        "\n",
        "lemmatizer = WordNetLemmatizer()\n",
        "leammtizer = lambda x: [ lemmatizer.lemmatize(word) for word in x ]\n",
        "data['text'] = data['text'].apply(leammtizer)\n",
        "data['text'] = data['text'].apply(lambda x: ' '.join(x))\n",
        "print(data.head())\n"
      ],
      "execution_count": null,
      "outputs": [
        {
          "output_type": "stream",
          "name": "stdout",
          "text": [
            "                                                text  spam\n",
            "0  subject natur irresist your corpor ident lt is...     1\n",
            "1  subject the stock trade gunsling fanni is merr...     1\n",
            "2  subject unbeliev new home made easi im want to...     1\n",
            "3  subject color print special request addit info...     1\n",
            "4  subject do not have money get softwar cd from ...     1\n"
          ]
        }
      ]
    },
    {
      "cell_type": "markdown",
      "metadata": {
        "id": "lG-1XK8Np8v2"
      },
      "source": [
        "#Split out dataset\n",
        "Here we are splitting out dataset into two categories: \n",
        "> \n",
        "Training:This is what out model will use to train\n",
        "> \n",
        "Testing:This is the data used to find how good out model is\n"
      ]
    },
    {
      "cell_type": "code",
      "metadata": {
        "colab": {
          "base_uri": "https://localhost:8080/"
        },
        "id": "raO7P1N-p5_p",
        "outputId": "fa5741b7-7585-4059-efac-3bf3cf044468"
      },
      "source": [
        "max_words = 10000\n",
        "cv = CountVectorizer(max_features=max_words, stop_words='english')#bag of words\n",
        "sparse_matrix = cv.fit_transform(data['text']).toarray()\n",
        "\n",
        "print(sparse_matrix.shape)#prints the dimensions of the matrix\n",
        "\n",
        "\n",
        "x_train, x_test, y_train, y_test = train_test_split(sparse_matrix, np.array(data['spam']))\n"
      ],
      "execution_count": null,
      "outputs": [
        {
          "output_type": "stream",
          "name": "stdout",
          "text": [
            "(5728, 10000)\n"
          ]
        }
      ]
    },
    {
      "cell_type": "markdown",
      "metadata": {
        "id": "iiXBHUy-qg2m"
      },
      "source": [
        "#Creating the Model\n",
        "Here we are creating an instance of our Model. Then, we define our optimization function, learing rate, and loss."
      ]
    },
    {
      "cell_type": "code",
      "metadata": {
        "id": "rZrcvF7rq9CT"
      },
      "source": [
        "model = LogisticRegression()\n",
        "\n",
        "criterion = nn.CrossEntropyLoss()\n",
        "optimizer = torch.optim.Adam(params=model.parameters() , lr=0.01)\n",
        "\n",
        "x_train = Variable(torch.from_numpy(x_train)).float()\n",
        "y_train = Variable(torch.from_numpy(y_train)).long()\n",
        "x_test = Variable(torch.from_numpy(x_test)).float()\n",
        "y_test = Variable(torch.from_numpy(y_test)).long()\n"
      ],
      "execution_count": null,
      "outputs": []
    },
    {
      "cell_type": "markdown",
      "metadata": {
        "id": "bF5WRya9rE4-"
      },
      "source": [
        "#Training+Testing Our Model\n",
        "We are training through our datset 20 times(epochs). Then we go through the testing data to find our final accuracy\n"
      ]
    },
    {
      "cell_type": "code",
      "metadata": {
        "colab": {
          "base_uri": "https://localhost:8080/"
        },
        "id": "fS4n8r5lrATc",
        "outputId": "5c64fc42-ea8b-49dd-c52d-912d8a9264de"
      },
      "source": [
        "epochs = 20\n",
        "model.train()\n",
        "loss_values = []\n",
        "for epoch in range(epochs):\n",
        "    optimizer.zero_grad()\n",
        "    y_pred = model(x_train)\n",
        "    loss = criterion(y_pred, y_train)\n",
        "    loss_values.append(loss.item())\n",
        "    pred = torch.max(y_pred, 1)[1].eq(y_train).sum()\n",
        "    acc = pred * 100.0 / len(x_train)\n",
        "    print('Epoch: {}, Loss: {}, Accuracy: {}%'.format(epoch+1, loss.item(), acc.numpy()))\n",
        "    loss.backward()#gradient descent\n",
        "    optimizer.step()\n",
        "\n",
        "\n",
        "with torch.no_grad():\n",
        "    y_pred = model(x_test)\n",
        "    loss = criterion(y_pred, y_test)\n",
        "    pred = torch.max(y_pred, 1)[1].eq(y_test).sum()\n",
        "    print (\"Accuracy : {}%\".format(100*pred/len(x_test))) "
      ],
      "execution_count": null,
      "outputs": [
        {
          "output_type": "stream",
          "name": "stdout",
          "text": [
            "Epoch: 1, Loss: 0.6168839335441589, Accuracy: 75.8845443725586%\n",
            "Epoch: 2, Loss: 0.4054396152496338, Accuracy: 76.09403991699219%\n",
            "Epoch: 3, Loss: 0.27820178866386414, Accuracy: 77.28118896484375%\n",
            "Epoch: 4, Loss: 0.2174481451511383, Accuracy: 83.40316772460938%\n",
            "Epoch: 5, Loss: 0.16155879199504852, Accuracy: 90.29329681396484%\n",
            "Epoch: 6, Loss: 0.11283919215202332, Accuracy: 95.11173248291016%\n",
            "Epoch: 7, Loss: 0.07596375793218613, Accuracy: 98.53351593017578%\n",
            "Epoch: 8, Loss: 0.05003871023654938, Accuracy: 99.23184204101562%\n",
            "Epoch: 9, Loss: 0.0322624146938324, Accuracy: 99.55773162841797%\n",
            "Epoch: 10, Loss: 0.02054760232567787, Accuracy: 99.7905044555664%\n",
            "Epoch: 11, Loss: 0.013137455098330975, Accuracy: 99.81378173828125%\n",
            "Epoch: 12, Loss: 0.008545655757188797, Accuracy: 99.86033630371094%\n",
            "Epoch: 13, Loss: 0.005712979007512331, Accuracy: 99.93016815185547%\n",
            "Epoch: 14, Loss: 0.004063830245286226, Accuracy: 99.93016815185547%\n",
            "Epoch: 15, Loss: 0.0030463070143014193, Accuracy: 99.93016815185547%\n",
            "Epoch: 16, Loss: 0.0023811478167772293, Accuracy: 99.95344543457031%\n",
            "Epoch: 17, Loss: 0.0019269280601292849, Accuracy: 99.95344543457031%\n",
            "Epoch: 18, Loss: 0.00161098747048527, Accuracy: 99.95344543457031%\n",
            "Epoch: 19, Loss: 0.001383397844620049, Accuracy: 99.95344543457031%\n",
            "Epoch: 20, Loss: 0.001215176424011588, Accuracy: 99.95344543457031%\n",
            "Accuracy : 98.88268280029297%\n"
          ]
        }
      ]
    },
    {
      "cell_type": "markdown",
      "metadata": {
        "id": "K2yhOCaXsr4T"
      },
      "source": [
        "#Graph Our Model\n",
        "Here we graph the loss of our model. Loss is how well our model did(higher the loss, the better the model)"
      ]
    },
    {
      "cell_type": "code",
      "metadata": {
        "colab": {
          "base_uri": "https://localhost:8080/",
          "height": 295
        },
        "id": "1MQTTDJ7tFNa",
        "outputId": "2e1baad0-cd0b-48c5-a954-dcf8357476e7"
      },
      "source": [
        "plt.plot(loss_values)\n",
        "plt.title('Loss Value vs Epochs')\n",
        "plt.xlabel('Epochs')\n",
        "plt.ylabel('Loss')\n",
        "plt.legend(['Loss'])\n",
        "plt.show()\n"
      ],
      "execution_count": null,
      "outputs": [
        {
          "output_type": "display_data",
          "data": {
            "image/png": "[encoded data removed]",
            "text/plain": [
              "<Figure size 432x288 with 1 Axes>"
            ]
          },
          "metadata": {
            "needs_background": "light"
          }
        }
      ]
    },
    {
      "cell_type": "markdown",
      "metadata": {
        "id": "rX5NqQS9uURd"
      },
      "source": [
        "#Have fun with your model!\n",
        "You can put in your own email in the email varible. The closer the output is to 1 it spam\n"
      ]
    },
    {
      "cell_type": "code",
      "metadata": {
        "colab": {
          "base_uri": "https://localhost:8080/"
        },
        "id": "ooscA_beuqMf",
        "outputId": "b6f8b003-e09a-4110-adf0-d8e7ec4fb8ed"
      },
      "source": [
        "import io\n",
        "import csv\n",
        "data_string = \"\"\"name:email\n",
        "                 email:hello how are you\n",
        "\"\"\"\n",
        "data = io.StringIO(data_string)\n",
        "email = pd.read_csv(data, sep=\":\")\n",
        "\n",
        "remove_non_alphabets =lambda x: re.sub(r'[^a-zA-Z]',' ',x)\n",
        "tokenize=lambda x: word_tokenize(x)\n",
        "ps = PorterStemmer()\n",
        "stem = lambda w: [ ps.stem(x) for x in w ]\n",
        "lemmatizer = WordNetLemmatizer()\n",
        "leammtizer = lambda x: [ lemmatizer.lemmatize(word) for word in x ]\n",
        "\n",
        "email['email'] = email['email'].apply(remove_non_alphabets)\n",
        "email['email'] = email['email'].apply(tokenize)\n",
        "email['email'] = email['email'].apply(stem)\n",
        "email['email'] = email['email'].apply(leammtizer)\n",
        "email['email'] = email['email'].apply(lambda x: ' '.join(x))\n",
        "print(\"hello: \",email.head)\n",
        "\n",
        "max_words = 10000\n",
        "cv = CountVectorizer(max_features=max_words, stop_words='english')\n",
        "sparse_matrix = cv.fit_transform(email['email']).toarray()\n",
        "\n",
        "N = 10000-1\n",
        "x=np.pad(sparse_matrix, (0, N), 'constant')\n",
        "print(\"xsize : \",x.shape)\n",
        "\n",
        "x_play = Variable(torch.from_numpy(x)).float()\n",
        "pred=model(x_play)\n",
        "\n",
        "print(\"predict: \",pred)\n"
      ],
      "execution_count": null,
      "outputs": [
        {
          "output_type": "stream",
          "name": "stdout",
          "text": [
            "hello:  <bound method NDFrame.head of                      name              email\n",
            "0                   email  hello how are you>\n",
            "xsize :  (10000, 10000)\n",
            "predict:  tensor([[ 1.1524, -1.2679],\n",
            "        [ 0.5360, -0.4272],\n",
            "        [ 0.5360, -0.4272],\n",
            "        ...,\n",
            "        [ 0.5360, -0.4272],\n",
            "        [ 0.5360, -0.4272],\n",
            "        [ 0.5360, -0.4272]], grad_fn=<AddmmBackward>)\n"
          ]
        }
      ]
    }
  ]
}